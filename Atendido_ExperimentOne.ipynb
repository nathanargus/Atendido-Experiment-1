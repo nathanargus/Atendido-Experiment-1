{
 "cells": [
  {
   "cell_type": "markdown",
   "id": "a6a11000-01d2-4945-ab6a-c6f3ae68d366",
   "metadata": {},
   "source": [
    "## 1. Alphabet Soup Problem"
   ]
  },
  {
   "cell_type": "code",
   "execution_count": 53,
   "id": "bbbca359-1049-4179-866c-fbecbfcbf86c",
   "metadata": {},
   "outputs": [
    {
     "name": "stdout",
     "output_type": "stream",
     "text": [
      "cdeiostu\n"
     ]
    }
   ],
   "source": [
    "# define a function that takes a string as an input and returns a new string\n",
    "def alphabet_soup(word):\n",
    "    # Convert the string first into a list of characters\n",
    "    char_list = list(word)\n",
    "    # Then, sort the list alphabetically\n",
    "    char_list.sort()\n",
    "    # Join the sorted characters back into a string\n",
    "    sorted_word = ''.join(char_list)\n",
    "    return sorted_word\n",
    "\n",
    "# Sample text to test the function\n",
    "result = alphabet_soup(\"doscutie\")\n",
    "\n",
    "# Print the result to see the output\n",
    "print(result) "
   ]
  },
  {
   "cell_type": "markdown",
   "id": "454afc46-22be-4f6a-8c4e-d25947fd3319",
   "metadata": {},
   "source": [
    "## 2. Emoticon Problem"
   ]
  },
  {
   "cell_type": "code",
   "execution_count": 51,
   "id": "1f53e061-eda5-43ba-afdc-f93193881abd",
   "metadata": {},
   "outputs": [
    {
     "name": "stdout",
     "output_type": "stream",
     "text": [
      "Do not be :(( and >:(, I love seeing you :) and :D.\n"
     ]
    }
   ],
   "source": [
    "def emoticon(sentence):\n",
    "    # Define a dictionary where words are the keys and the emoticons that go with them are the values.\n",
    "    replacements = {\n",
    "        \"smile\": \":)\",   # smile is replaced with :)\n",
    "        \"grin\": \":D\",    # grin is replaced with :D\n",
    "        \"sad\": \":((\",    # sad is replaced with :((\n",
    "        \"mad\": \">:(\"     # mad is replaced with >:(\n",
    "    }\n",
    "    \n",
    "    # Loop through the dictionary and replace each word in the sentence with its emoticon\n",
    "    for word, emoticon in replacements.items():\n",
    "        # Replace occurrences of the word in the sentence with the corresponding emoticon\n",
    "        sentence = sentence.replace(word, emoticon)\n",
    "\n",
    "    # Return the modified sentence with the words replaced by their respective emoticons\n",
    "    return sentence\n",
    "    \n",
    "# Sample sentence to test the function\n",
    "sentence = \"Do not be sad and mad, I love seeing you smile and grin.\"\n",
    "\n",
    "# Call the function with the sample text and store the result\n",
    "result = emoticon(sentence)\n",
    "\n",
    "# Print the result to see the output\n",
    "print(result)"
   ]
  },
  {
   "cell_type": "markdown",
   "id": "2d00db52-309f-4223-b2da-a346693d8520",
   "metadata": {},
   "source": [
    "## 3. Unpacking List Problem"
   ]
  },
  {
   "cell_type": "code",
   "execution_count": 55,
   "id": "1159bff5-c550-47e3-b7a8-280b619f442a",
   "metadata": {},
   "outputs": [
    {
     "name": "stdout",
     "output_type": "stream",
     "text": [
      "First: 1\n",
      "Middle: [2, 3, 4, 5, 6, 7, 8, 9]\n",
      "Last: 10\n"
     ]
    }
   ],
   "source": [
    "# Given list containing a sequence of numbers\n",
    "writeyourcodehere = [1, 2, 3, 4, 5, 6, 7, 8, 9, 10]\n",
    "\n",
    "# Unpack the list into three parts:\n",
    "# 'first' gets the first element of the list,\n",
    "# 'middle' captures all elements between the first and last as a list,\n",
    "# 'last' gets the final element of the list.\n",
    "first, *middle, last = writeyourcodehere\n",
    "\n",
    "# Print the result\n",
    "print(\"First:\", first)   \n",
    "print(\"Middle:\", middle) \n",
    "print(\"Last:\", last)     "
   ]
  }
 ],
 "metadata": {
  "kernelspec": {
   "display_name": "Python 3 (ipykernel)",
   "language": "python",
   "name": "python3"
  },
  "language_info": {
   "codemirror_mode": {
    "name": "ipython",
    "version": 3
   },
   "file_extension": ".py",
   "mimetype": "text/x-python",
   "name": "python",
   "nbconvert_exporter": "python",
   "pygments_lexer": "ipython3",
   "version": "3.12.4"
  }
 },
 "nbformat": 4,
 "nbformat_minor": 5
}
